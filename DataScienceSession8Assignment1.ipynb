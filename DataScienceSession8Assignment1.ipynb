{
 "cells": [
  {
   "cell_type": "code",
   "execution_count": 1,
   "metadata": {},
   "outputs": [
    {
     "data": {
      "text/html": [
       "<div>\n",
       "<style scoped>\n",
       "    .dataframe tbody tr th:only-of-type {\n",
       "        vertical-align: middle;\n",
       "    }\n",
       "\n",
       "    .dataframe tbody tr th {\n",
       "        vertical-align: top;\n",
       "    }\n",
       "\n",
       "    .dataframe thead th {\n",
       "        text-align: right;\n",
       "    }\n",
       "</style>\n",
       "<table border=\"1\" class=\"dataframe\">\n",
       "  <thead>\n",
       "    <tr style=\"text-align: right;\">\n",
       "      <th></th>\n",
       "      <th>X</th>\n",
       "      <th>Y</th>\n",
       "    </tr>\n",
       "  </thead>\n",
       "  <tbody>\n",
       "    <tr>\n",
       "      <th>0</th>\n",
       "      <td>7</td>\n",
       "      <td>1</td>\n",
       "    </tr>\n",
       "    <tr>\n",
       "      <th>1</th>\n",
       "      <td>2</td>\n",
       "      <td>2</td>\n",
       "    </tr>\n",
       "    <tr>\n",
       "      <th>2</th>\n",
       "      <td>0</td>\n",
       "      <td>0</td>\n",
       "    </tr>\n",
       "    <tr>\n",
       "      <th>3</th>\n",
       "      <td>3</td>\n",
       "      <td>1</td>\n",
       "    </tr>\n",
       "    <tr>\n",
       "      <th>4</th>\n",
       "      <td>4</td>\n",
       "      <td>2</td>\n",
       "    </tr>\n",
       "    <tr>\n",
       "      <th>5</th>\n",
       "      <td>2</td>\n",
       "      <td>3</td>\n",
       "    </tr>\n",
       "    <tr>\n",
       "      <th>6</th>\n",
       "      <td>5</td>\n",
       "      <td>4</td>\n",
       "    </tr>\n",
       "    <tr>\n",
       "      <th>7</th>\n",
       "      <td>0</td>\n",
       "      <td>0</td>\n",
       "    </tr>\n",
       "    <tr>\n",
       "      <th>8</th>\n",
       "      <td>3</td>\n",
       "      <td>1</td>\n",
       "    </tr>\n",
       "    <tr>\n",
       "      <th>9</th>\n",
       "      <td>4</td>\n",
       "      <td>2</td>\n",
       "    </tr>\n",
       "  </tbody>\n",
       "</table>\n",
       "</div>"
      ],
      "text/plain": [
       "   X  Y\n",
       "0  7  1\n",
       "1  2  2\n",
       "2  0  0\n",
       "3  3  1\n",
       "4  4  2\n",
       "5  2  3\n",
       "6  5  4\n",
       "7  0  0\n",
       "8  3  1\n",
       "9  4  2"
      ]
     },
     "execution_count": 1,
     "metadata": {},
     "output_type": "execute_result"
    }
   ],
   "source": [
    "#1) How-to-count-distance-to-the-previous-zero\n",
    "#For each value, count the difference of the distance from the previous zero (or the start of the Series, whichever is closer)\n",
    "#and if there are no previous zeros,print the position\n",
    "#Consider a DataFrame df where there is an integer column {'X':[7, 2, 0, 3, 4, 2, 5, 0, 3, 4]}\n",
    "#The values should therefore be [1, 2, 0, 1, 2, 3, 4, 0, 1, 2]. Make this a new column 'Y'.\n",
    "#import pandas as pd\n",
    "#df = pd.DataFrame({'X': [7, 2, 0, 3, 4, 2, 5, 0, 3, 4]})\n",
    "\n",
    "#Import Pandas and numpy Library\n",
    "import pandas as pd\n",
    "import numpy as np\n",
    "\n",
    "#@df variable Data Frame\n",
    "df = pd.DataFrame({'X': [7, 2, 0, 3, 4, 2, 5, 0, 3, 4]})\n",
    "dfArray=np.array([7, 2, 0, 3, 4, 2, 5, 0, 3, 4])\n",
    "zeroView = np.zeros_like(dfArray)\n",
    "\n",
    "# Count distance to the previous zero\n",
    "zeroCount = 0\n",
    "for i in range(len(dfArray)):\n",
    "    if dfArray[i] == 0:\n",
    "        zeroCount = 0 \n",
    "    else:\n",
    "        zeroCount+=1\n",
    "    dfArray[i] = zeroCount\n",
    "\n",
    "#Add columun to the dataframe.\n",
    "df['Y']=dfArray\n",
    "\n",
    "#Output:\n",
    "df"
   ]
  },
  {
   "cell_type": "code",
   "execution_count": 2,
   "metadata": {},
   "outputs": [
    {
     "name": "stdout",
     "output_type": "stream",
     "text": [
      "2015-01-01    0.916099\n",
      "2015-01-02    0.770766\n",
      "2015-01-05    0.969733\n",
      "2015-01-06    0.032791\n",
      "2015-01-07    0.764359\n",
      "2015-01-08    0.656781\n",
      "2015-01-09    0.171029\n",
      "2015-01-12    0.391843\n",
      "2015-01-13    0.394900\n",
      "2015-01-14    0.526611\n",
      "Freq: B, dtype: float64\n",
      "\n",
      "\n",
      "DatetimeIndex(['2015-01-01', '2015-01-02', '2015-01-05', '2015-01-06',\n",
      "               '2015-01-07', '2015-01-08', '2015-01-09', '2015-01-12',\n",
      "               '2015-01-13', '2015-01-14',\n",
      "               ...\n",
      "               '2015-12-18', '2015-12-21', '2015-12-22', '2015-12-23',\n",
      "               '2015-12-24', '2015-12-25', '2015-12-28', '2015-12-29',\n",
      "               '2015-12-30', '2015-12-31'],\n",
      "              dtype='datetime64[ns]', length=261, freq='B')\n"
     ]
    }
   ],
   "source": [
    "#2) Create a DatetimeIndex that contains each business day of 2015 and use it to index a Series of random numbers.\n",
    "\n",
    "#Import Pandas and numpy Library\n",
    "import pandas as pd\n",
    "import numpy as np\n",
    "\n",
    "#Use date_range() to get all business Day of 2015 @businessDays store its values.\n",
    "businessDate = pd.date_range('2015-01-01', '2015-12-31',freq='B')\n",
    "#Random number based upon business date\n",
    "randomNum = np.random.rand(len(businessDate))\n",
    "#Series object form pandas\n",
    "s = pd.Series(randomNum,index=businessDate)\n",
    "\n",
    "# 10 results of series objects\n",
    "print(s.head(10))\n",
    "print(\"\\n\")\n",
    "#Index of Series objects\n",
    "print(s.index)\n",
    "\n"
   ]
  },
  {
   "cell_type": "code",
   "execution_count": 3,
   "metadata": {},
   "outputs": [
    {
     "data": {
      "text/plain": [
       "23.57960740529622"
      ]
     },
     "execution_count": 3,
     "metadata": {},
     "output_type": "execute_result"
    }
   ],
   "source": [
    "#3) Find the sum of the values in s for every Wednesday\n",
    "\n",
    "#Output\n",
    "s[businessDate.weekday_name=='Wednesday'].sum()"
   ]
  },
  {
   "cell_type": "code",
   "execution_count": 4,
   "metadata": {},
   "outputs": [
    {
     "data": {
      "text/plain": [
       "2015-01-31    0.480829\n",
       "2015-02-28    0.560226\n",
       "2015-03-31    0.498619\n",
       "2015-04-30    0.470682\n",
       "2015-05-31    0.517996\n",
       "2015-06-30    0.509505\n",
       "2015-07-31    0.500675\n",
       "2015-08-31    0.548959\n",
       "2015-09-30    0.377180\n",
       "2015-10-31    0.479359\n",
       "2015-11-30    0.577155\n",
       "2015-12-31    0.568602\n",
       "Freq: M, dtype: float64"
      ]
     },
     "execution_count": 4,
     "metadata": {},
     "output_type": "execute_result"
    }
   ],
   "source": [
    "#4) Average For each calendar month\n",
    "\n",
    "# Output\n",
    "s.resample('M',convention='end').mean()"
   ]
  },
  {
   "cell_type": "code",
   "execution_count": 5,
   "metadata": {},
   "outputs": [
    {
     "name": "stdout",
     "output_type": "stream",
     "text": [
      "2015-01-05    0.969733\n",
      "2015-04-02    0.992562\n",
      "2015-07-02    0.989826\n",
      "2015-10-12    0.985937\n",
      "dtype: float64\n"
     ]
    },
    {
     "data": {
      "text/plain": [
       "2015-01-01    0.916099\n",
       "2015-01-02    0.770766\n",
       "2015-01-05    0.969733\n",
       "2015-01-06    0.032791\n",
       "2015-01-07    0.764359\n",
       "2015-01-08    0.656781\n",
       "2015-01-09    0.171029\n",
       "2015-01-12    0.391843\n",
       "2015-01-13    0.394900\n",
       "2015-01-14    0.526611\n",
       "2015-01-15    0.061948\n",
       "2015-01-16    0.725354\n",
       "2015-01-19    0.305724\n",
       "2015-01-20    0.377483\n",
       "2015-01-21    0.723601\n",
       "2015-01-22    0.163211\n",
       "2015-01-23    0.121571\n",
       "2015-01-26    0.507076\n",
       "2015-01-27    0.458845\n",
       "2015-01-28    0.327132\n",
       "2015-01-29    0.680821\n",
       "2015-01-30    0.530558\n",
       "2015-02-02    0.602223\n",
       "2015-02-03    0.829049\n",
       "2015-02-04    0.316158\n",
       "2015-02-05    0.754981\n",
       "2015-02-06    0.981113\n",
       "2015-02-09    0.529374\n",
       "2015-02-10    0.869720\n",
       "2015-02-11    0.079012\n",
       "                ...   \n",
       "2015-11-20    0.049184\n",
       "2015-11-23    0.712084\n",
       "2015-11-24    0.562050\n",
       "2015-11-25    0.751162\n",
       "2015-11-26    0.859749\n",
       "2015-11-27    0.310930\n",
       "2015-11-30    0.027147\n",
       "2015-12-01    0.600099\n",
       "2015-12-02    0.152227\n",
       "2015-12-03    0.700689\n",
       "2015-12-04    0.948773\n",
       "2015-12-07    0.554771\n",
       "2015-12-08    0.224700\n",
       "2015-12-09    0.009785\n",
       "2015-12-10    0.687351\n",
       "2015-12-11    0.158716\n",
       "2015-12-14    0.510768\n",
       "2015-12-15    0.823130\n",
       "2015-12-16    0.515431\n",
       "2015-12-17    0.695980\n",
       "2015-12-18    0.076622\n",
       "2015-12-21    0.091041\n",
       "2015-12-22    0.571641\n",
       "2015-12-23    0.937893\n",
       "2015-12-24    0.457687\n",
       "2015-12-25    0.885067\n",
       "2015-12-28    0.934703\n",
       "2015-12-29    0.947388\n",
       "2015-12-30    0.964062\n",
       "2015-12-31    0.629314\n",
       "Freq: B, Length: 261, dtype: float64"
      ]
     },
     "execution_count": 5,
     "metadata": {},
     "output_type": "execute_result"
    }
   ],
   "source": [
    "#5) For each group of four consecutive calendar months in s, find the date on which the highest value occurred.\n",
    "\n",
    "print(s[s.groupby(pd.Grouper(freq='4M')).idxmax()])\n",
    "\n",
    "# Validate your answer by printing series object\n",
    "s"
   ]
  },
  {
   "cell_type": "code",
   "execution_count": null,
   "metadata": {},
   "outputs": [],
   "source": []
  }
 ],
 "metadata": {
  "kernelspec": {
   "display_name": "Python 3",
   "language": "python",
   "name": "python3"
  },
  "language_info": {
   "codemirror_mode": {
    "name": "ipython",
    "version": 3
   },
   "file_extension": ".py",
   "mimetype": "text/x-python",
   "name": "python",
   "nbconvert_exporter": "python",
   "pygments_lexer": "ipython3",
   "version": "3.6.5"
  }
 },
 "nbformat": 4,
 "nbformat_minor": 2
}
